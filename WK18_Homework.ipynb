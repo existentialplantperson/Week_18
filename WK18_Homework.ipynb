{
 "cells": [
  {
   "cell_type": "markdown",
   "id": "da169fbb",
   "metadata": {},
   "source": [
    "##### Week 18 Homework\n",
    "###### Angela Spencer  - February 2, 2022"
   ]
  },
  {
   "cell_type": "markdown",
   "id": "16e1c6d7",
   "metadata": {},
   "source": [
    "1.\tWhat is a neural network? What are the general steps required to build a neural network? \n",
    "2.\tGenerally, how do you check the performance of a neural network? Why? \n",
    "3.\tCreate a neural network using keras to predict the outcome of either of these datasets: \n",
    "Cardiac Arrhythmia: https://archive.ics.uci.edu/ml/datasets/Arrhythmia \n",
    "Abalone age: https://archive.ics.uci.edu/ml/datasets/Abalone\n",
    "4.\tWrite another algorithm to predict the same result as the previous question using either KNN or logistic regression.\n",
    "5.\tCreate a neural network using pytorch to predict the same result as question 3. \n",
    "6.\tCompare the performance of the neural networks to the other model you created. Which performed better? Why do you think that is?"
   ]
  },
  {
   "cell_type": "code",
   "execution_count": null,
   "id": "d9e45496",
   "metadata": {},
   "outputs": [],
   "source": []
  },
  {
   "cell_type": "code",
   "execution_count": null,
   "id": "2232c525",
   "metadata": {},
   "outputs": [],
   "source": []
  }
 ],
 "metadata": {
  "kernelspec": {
   "display_name": "Python 3 (ipykernel)",
   "language": "python",
   "name": "python3"
  },
  "language_info": {
   "codemirror_mode": {
    "name": "ipython",
    "version": 3
   },
   "file_extension": ".py",
   "mimetype": "text/x-python",
   "name": "python",
   "nbconvert_exporter": "python",
   "pygments_lexer": "ipython3",
   "version": "3.9.7"
  }
 },
 "nbformat": 4,
 "nbformat_minor": 5
}
