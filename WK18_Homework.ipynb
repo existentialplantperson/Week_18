{
 "cells": [
  {
   "cell_type": "markdown",
   "id": "da169fbb",
   "metadata": {},
   "source": [
    "##### Week 18 Homework\n",
    "###### Angela Spencer  - February 2, 2022"
   ]
  },
  {
   "cell_type": "markdown",
   "id": "16e1c6d7",
   "metadata": {},
   "source": [
    "##### 1.\tWhat is a neural network? What are the general steps required to build a neural network? \n"
   ]
  },
  {
   "cell_type": "markdown",
   "id": "a7647983",
   "metadata": {},
   "source": [
    "Neural networks are a subset of machine learning in which input data is analyzed in a method that recreates the way a human's brain uses neural pathways to process data.  Neural networks take in features and pass the information through a series of non-linearly connected nodes in hidden layers of the network before outputing a predicted value.\n",
    "\n",
    "Building a neural network:\n"
   ]
  },
  {
   "cell_type": "markdown",
   "id": "6f13eb72",
   "metadata": {},
   "source": [
    "##### 2.\tGenerally, how do you check the performance of a neural network? Why? \n"
   ]
  },
  {
   "cell_type": "markdown",
   "id": "e129b93a",
   "metadata": {},
   "source": [
    "Performance of a neural network is evaluated on a validation dataset.  Performance metrics are the same as for lonear/logistic regression: measure of loss for continuous datasets and measure of "
   ]
  },
  {
   "cell_type": "markdown",
   "id": "126ba9d5",
   "metadata": {},
   "source": [
    "##### 3.\tCreate a neural network using keras to predict the outcome of either of these datasets: \n",
    "    Cardiac Arrhythmia: https://archive.ics.uci.edu/ml/datasets/Arrhythmia \n",
    "    Abalone age: https://archive.ics.uci.edu/ml/datasets/Abalone\n"
   ]
  },
  {
   "cell_type": "code",
   "execution_count": 1,
   "id": "8397be76",
   "metadata": {},
   "outputs": [],
   "source": [
    "import numpy as np\n",
    "import pandas as pd\n",
    "import matplotlib.pyplot as plt\n",
    "\n",
    "from sklearn.linear_model import Lasso\n",
    "\n",
    "import tensorflow as tf\n",
    "tf.random.set_seed(42)\n",
    "\n",
    "from tensorflow import keras\n",
    "from tensorflow.keras import layers\n",
    "\n",
    "from sklearn.model_selection import train_test_split\n",
    "from sklearn.preprocessing import StandardScaler\n",
    "from sklearn.neighbors import KNeighborsRegressor\n",
    "from sklearn.model_selection import GridSearchCV\n",
    "\n",
    "from sklearn.metrics import mean_squared_error \n",
    "\n",
    "import torch\n",
    "torch.manual_seed(42)\n",
    "\n",
    "import torch.nn as nn\n",
    "import torch.nn.functional as F "
   ]
  },
  {
   "cell_type": "code",
   "execution_count": 2,
   "id": "5559d18f",
   "metadata": {},
   "outputs": [
    {
     "data": {
      "text/html": [
       "<div>\n",
       "<style scoped>\n",
       "    .dataframe tbody tr th:only-of-type {\n",
       "        vertical-align: middle;\n",
       "    }\n",
       "\n",
       "    .dataframe tbody tr th {\n",
       "        vertical-align: top;\n",
       "    }\n",
       "\n",
       "    .dataframe thead th {\n",
       "        text-align: right;\n",
       "    }\n",
       "</style>\n",
       "<table border=\"1\" class=\"dataframe\">\n",
       "  <thead>\n",
       "    <tr style=\"text-align: right;\">\n",
       "      <th></th>\n",
       "      <th>sex</th>\n",
       "      <th>length</th>\n",
       "      <th>diameter</th>\n",
       "      <th>height</th>\n",
       "      <th>whole_weight</th>\n",
       "      <th>shucked_weight</th>\n",
       "      <th>viscera_weight</th>\n",
       "      <th>shell_weight</th>\n",
       "      <th>rings</th>\n",
       "    </tr>\n",
       "  </thead>\n",
       "  <tbody>\n",
       "    <tr>\n",
       "      <th>0</th>\n",
       "      <td>M</td>\n",
       "      <td>0.455</td>\n",
       "      <td>0.365</td>\n",
       "      <td>0.095</td>\n",
       "      <td>0.5140</td>\n",
       "      <td>0.2245</td>\n",
       "      <td>0.1010</td>\n",
       "      <td>0.150</td>\n",
       "      <td>15</td>\n",
       "    </tr>\n",
       "    <tr>\n",
       "      <th>1</th>\n",
       "      <td>M</td>\n",
       "      <td>0.350</td>\n",
       "      <td>0.265</td>\n",
       "      <td>0.090</td>\n",
       "      <td>0.2255</td>\n",
       "      <td>0.0995</td>\n",
       "      <td>0.0485</td>\n",
       "      <td>0.070</td>\n",
       "      <td>7</td>\n",
       "    </tr>\n",
       "    <tr>\n",
       "      <th>2</th>\n",
       "      <td>F</td>\n",
       "      <td>0.530</td>\n",
       "      <td>0.420</td>\n",
       "      <td>0.135</td>\n",
       "      <td>0.6770</td>\n",
       "      <td>0.2565</td>\n",
       "      <td>0.1415</td>\n",
       "      <td>0.210</td>\n",
       "      <td>9</td>\n",
       "    </tr>\n",
       "    <tr>\n",
       "      <th>3</th>\n",
       "      <td>M</td>\n",
       "      <td>0.440</td>\n",
       "      <td>0.365</td>\n",
       "      <td>0.125</td>\n",
       "      <td>0.5160</td>\n",
       "      <td>0.2155</td>\n",
       "      <td>0.1140</td>\n",
       "      <td>0.155</td>\n",
       "      <td>10</td>\n",
       "    </tr>\n",
       "    <tr>\n",
       "      <th>4</th>\n",
       "      <td>I</td>\n",
       "      <td>0.330</td>\n",
       "      <td>0.255</td>\n",
       "      <td>0.080</td>\n",
       "      <td>0.2050</td>\n",
       "      <td>0.0895</td>\n",
       "      <td>0.0395</td>\n",
       "      <td>0.055</td>\n",
       "      <td>7</td>\n",
       "    </tr>\n",
       "  </tbody>\n",
       "</table>\n",
       "</div>"
      ],
      "text/plain": [
       "  sex  length  diameter  height  whole_weight  shucked_weight  viscera_weight  \\\n",
       "0   M   0.455     0.365   0.095        0.5140          0.2245          0.1010   \n",
       "1   M   0.350     0.265   0.090        0.2255          0.0995          0.0485   \n",
       "2   F   0.530     0.420   0.135        0.6770          0.2565          0.1415   \n",
       "3   M   0.440     0.365   0.125        0.5160          0.2155          0.1140   \n",
       "4   I   0.330     0.255   0.080        0.2050          0.0895          0.0395   \n",
       "\n",
       "   shell_weight  rings  \n",
       "0         0.150     15  \n",
       "1         0.070      7  \n",
       "2         0.210      9  \n",
       "3         0.155     10  \n",
       "4         0.055      7  "
      ]
     },
     "execution_count": 2,
     "metadata": {},
     "output_type": "execute_result"
    }
   ],
   "source": [
    "# convert .data file to dataframe with column names\n",
    "col = ['sex', 'length', 'diameter', 'height', 'whole_weight', 'shucked_weight', \n",
    "       'viscera_weight', 'shell_weight', 'rings']\n",
    "abalone = pd.read_csv('../Datasets/abalone.data', names=col)\n",
    "abalone.head()"
   ]
  },
  {
   "cell_type": "code",
   "execution_count": 3,
   "id": "2578c5c5",
   "metadata": {},
   "outputs": [
    {
     "name": "stdout",
     "output_type": "stream",
     "text": [
      "M    1528\n",
      "I    1342\n",
      "F    1307\n",
      "Name: sex, dtype: int64\n"
     ]
    },
    {
     "data": {
      "text/html": [
       "<div>\n",
       "<style scoped>\n",
       "    .dataframe tbody tr th:only-of-type {\n",
       "        vertical-align: middle;\n",
       "    }\n",
       "\n",
       "    .dataframe tbody tr th {\n",
       "        vertical-align: top;\n",
       "    }\n",
       "\n",
       "    .dataframe thead th {\n",
       "        text-align: right;\n",
       "    }\n",
       "</style>\n",
       "<table border=\"1\" class=\"dataframe\">\n",
       "  <thead>\n",
       "    <tr style=\"text-align: right;\">\n",
       "      <th></th>\n",
       "      <th>length</th>\n",
       "      <th>diameter</th>\n",
       "      <th>height</th>\n",
       "      <th>whole_weight</th>\n",
       "      <th>shucked_weight</th>\n",
       "      <th>viscera_weight</th>\n",
       "      <th>shell_weight</th>\n",
       "      <th>rings</th>\n",
       "      <th>sex_F</th>\n",
       "      <th>sex_I</th>\n",
       "      <th>sex_M</th>\n",
       "    </tr>\n",
       "  </thead>\n",
       "  <tbody>\n",
       "    <tr>\n",
       "      <th>0</th>\n",
       "      <td>0.455</td>\n",
       "      <td>0.365</td>\n",
       "      <td>0.095</td>\n",
       "      <td>0.5140</td>\n",
       "      <td>0.2245</td>\n",
       "      <td>0.1010</td>\n",
       "      <td>0.150</td>\n",
       "      <td>15</td>\n",
       "      <td>0</td>\n",
       "      <td>0</td>\n",
       "      <td>1</td>\n",
       "    </tr>\n",
       "    <tr>\n",
       "      <th>1</th>\n",
       "      <td>0.350</td>\n",
       "      <td>0.265</td>\n",
       "      <td>0.090</td>\n",
       "      <td>0.2255</td>\n",
       "      <td>0.0995</td>\n",
       "      <td>0.0485</td>\n",
       "      <td>0.070</td>\n",
       "      <td>7</td>\n",
       "      <td>0</td>\n",
       "      <td>0</td>\n",
       "      <td>1</td>\n",
       "    </tr>\n",
       "    <tr>\n",
       "      <th>2</th>\n",
       "      <td>0.530</td>\n",
       "      <td>0.420</td>\n",
       "      <td>0.135</td>\n",
       "      <td>0.6770</td>\n",
       "      <td>0.2565</td>\n",
       "      <td>0.1415</td>\n",
       "      <td>0.210</td>\n",
       "      <td>9</td>\n",
       "      <td>1</td>\n",
       "      <td>0</td>\n",
       "      <td>0</td>\n",
       "    </tr>\n",
       "    <tr>\n",
       "      <th>3</th>\n",
       "      <td>0.440</td>\n",
       "      <td>0.365</td>\n",
       "      <td>0.125</td>\n",
       "      <td>0.5160</td>\n",
       "      <td>0.2155</td>\n",
       "      <td>0.1140</td>\n",
       "      <td>0.155</td>\n",
       "      <td>10</td>\n",
       "      <td>0</td>\n",
       "      <td>0</td>\n",
       "      <td>1</td>\n",
       "    </tr>\n",
       "    <tr>\n",
       "      <th>4</th>\n",
       "      <td>0.330</td>\n",
       "      <td>0.255</td>\n",
       "      <td>0.080</td>\n",
       "      <td>0.2050</td>\n",
       "      <td>0.0895</td>\n",
       "      <td>0.0395</td>\n",
       "      <td>0.055</td>\n",
       "      <td>7</td>\n",
       "      <td>0</td>\n",
       "      <td>1</td>\n",
       "      <td>0</td>\n",
       "    </tr>\n",
       "  </tbody>\n",
       "</table>\n",
       "</div>"
      ],
      "text/plain": [
       "   length  diameter  height  whole_weight  shucked_weight  viscera_weight  \\\n",
       "0   0.455     0.365   0.095        0.5140          0.2245          0.1010   \n",
       "1   0.350     0.265   0.090        0.2255          0.0995          0.0485   \n",
       "2   0.530     0.420   0.135        0.6770          0.2565          0.1415   \n",
       "3   0.440     0.365   0.125        0.5160          0.2155          0.1140   \n",
       "4   0.330     0.255   0.080        0.2050          0.0895          0.0395   \n",
       "\n",
       "   shell_weight  rings  sex_F  sex_I  sex_M  \n",
       "0         0.150     15      0      0      1  \n",
       "1         0.070      7      0      0      1  \n",
       "2         0.210      9      1      0      0  \n",
       "3         0.155     10      0      0      1  \n",
       "4         0.055      7      0      1      0  "
      ]
     },
     "execution_count": 3,
     "metadata": {},
     "output_type": "execute_result"
    }
   ],
   "source": [
    "#convert 'sex' column to numberic type\n",
    "print(abalone['sex'].value_counts())\n",
    "\n",
    "#one hot encode sex values\n",
    "abalone = pd.concat([abalone, pd.get_dummies(abalone['sex'], prefix='sex')], axis=1)\n",
    "\n",
    "#drop redundant sex column\n",
    "abalone.drop('sex', axis=1, inplace=True)\n",
    "\n",
    "abalone.head()"
   ]
  },
  {
   "cell_type": "code",
   "execution_count": 4,
   "id": "8a5cabcc",
   "metadata": {},
   "outputs": [
    {
     "data": {
      "text/html": [
       "<div>\n",
       "<style scoped>\n",
       "    .dataframe tbody tr th:only-of-type {\n",
       "        vertical-align: middle;\n",
       "    }\n",
       "\n",
       "    .dataframe tbody tr th {\n",
       "        vertical-align: top;\n",
       "    }\n",
       "\n",
       "    .dataframe thead th {\n",
       "        text-align: right;\n",
       "    }\n",
       "</style>\n",
       "<table border=\"1\" class=\"dataframe\">\n",
       "  <thead>\n",
       "    <tr style=\"text-align: right;\">\n",
       "      <th></th>\n",
       "      <th>length</th>\n",
       "      <th>diameter</th>\n",
       "      <th>height</th>\n",
       "      <th>shucked_weight</th>\n",
       "      <th>viscera_weight</th>\n",
       "      <th>shell_weight</th>\n",
       "      <th>rings</th>\n",
       "      <th>sex_F</th>\n",
       "      <th>sex_I</th>\n",
       "      <th>sex_M</th>\n",
       "    </tr>\n",
       "  </thead>\n",
       "  <tbody>\n",
       "    <tr>\n",
       "      <th>0</th>\n",
       "      <td>0.455</td>\n",
       "      <td>0.365</td>\n",
       "      <td>0.095</td>\n",
       "      <td>0.2245</td>\n",
       "      <td>0.1010</td>\n",
       "      <td>0.1500</td>\n",
       "      <td>15</td>\n",
       "      <td>0</td>\n",
       "      <td>0</td>\n",
       "      <td>1</td>\n",
       "    </tr>\n",
       "    <tr>\n",
       "      <th>1</th>\n",
       "      <td>0.350</td>\n",
       "      <td>0.265</td>\n",
       "      <td>0.090</td>\n",
       "      <td>0.0995</td>\n",
       "      <td>0.0485</td>\n",
       "      <td>0.0700</td>\n",
       "      <td>7</td>\n",
       "      <td>0</td>\n",
       "      <td>0</td>\n",
       "      <td>1</td>\n",
       "    </tr>\n",
       "    <tr>\n",
       "      <th>2</th>\n",
       "      <td>0.530</td>\n",
       "      <td>0.420</td>\n",
       "      <td>0.135</td>\n",
       "      <td>0.2565</td>\n",
       "      <td>0.1415</td>\n",
       "      <td>0.2100</td>\n",
       "      <td>9</td>\n",
       "      <td>1</td>\n",
       "      <td>0</td>\n",
       "      <td>0</td>\n",
       "    </tr>\n",
       "    <tr>\n",
       "      <th>3</th>\n",
       "      <td>0.440</td>\n",
       "      <td>0.365</td>\n",
       "      <td>0.125</td>\n",
       "      <td>0.2155</td>\n",
       "      <td>0.1140</td>\n",
       "      <td>0.1550</td>\n",
       "      <td>10</td>\n",
       "      <td>0</td>\n",
       "      <td>0</td>\n",
       "      <td>1</td>\n",
       "    </tr>\n",
       "    <tr>\n",
       "      <th>4</th>\n",
       "      <td>0.330</td>\n",
       "      <td>0.255</td>\n",
       "      <td>0.080</td>\n",
       "      <td>0.0895</td>\n",
       "      <td>0.0395</td>\n",
       "      <td>0.0550</td>\n",
       "      <td>7</td>\n",
       "      <td>0</td>\n",
       "      <td>1</td>\n",
       "      <td>0</td>\n",
       "    </tr>\n",
       "    <tr>\n",
       "      <th>...</th>\n",
       "      <td>...</td>\n",
       "      <td>...</td>\n",
       "      <td>...</td>\n",
       "      <td>...</td>\n",
       "      <td>...</td>\n",
       "      <td>...</td>\n",
       "      <td>...</td>\n",
       "      <td>...</td>\n",
       "      <td>...</td>\n",
       "      <td>...</td>\n",
       "    </tr>\n",
       "    <tr>\n",
       "      <th>4172</th>\n",
       "      <td>0.565</td>\n",
       "      <td>0.450</td>\n",
       "      <td>0.165</td>\n",
       "      <td>0.3700</td>\n",
       "      <td>0.2390</td>\n",
       "      <td>0.2490</td>\n",
       "      <td>11</td>\n",
       "      <td>1</td>\n",
       "      <td>0</td>\n",
       "      <td>0</td>\n",
       "    </tr>\n",
       "    <tr>\n",
       "      <th>4173</th>\n",
       "      <td>0.590</td>\n",
       "      <td>0.440</td>\n",
       "      <td>0.135</td>\n",
       "      <td>0.4390</td>\n",
       "      <td>0.2145</td>\n",
       "      <td>0.2605</td>\n",
       "      <td>10</td>\n",
       "      <td>0</td>\n",
       "      <td>0</td>\n",
       "      <td>1</td>\n",
       "    </tr>\n",
       "    <tr>\n",
       "      <th>4174</th>\n",
       "      <td>0.600</td>\n",
       "      <td>0.475</td>\n",
       "      <td>0.205</td>\n",
       "      <td>0.5255</td>\n",
       "      <td>0.2875</td>\n",
       "      <td>0.3080</td>\n",
       "      <td>9</td>\n",
       "      <td>0</td>\n",
       "      <td>0</td>\n",
       "      <td>1</td>\n",
       "    </tr>\n",
       "    <tr>\n",
       "      <th>4175</th>\n",
       "      <td>0.625</td>\n",
       "      <td>0.485</td>\n",
       "      <td>0.150</td>\n",
       "      <td>0.5310</td>\n",
       "      <td>0.2610</td>\n",
       "      <td>0.2960</td>\n",
       "      <td>10</td>\n",
       "      <td>1</td>\n",
       "      <td>0</td>\n",
       "      <td>0</td>\n",
       "    </tr>\n",
       "    <tr>\n",
       "      <th>4176</th>\n",
       "      <td>0.710</td>\n",
       "      <td>0.555</td>\n",
       "      <td>0.195</td>\n",
       "      <td>0.9455</td>\n",
       "      <td>0.3765</td>\n",
       "      <td>0.4950</td>\n",
       "      <td>12</td>\n",
       "      <td>0</td>\n",
       "      <td>0</td>\n",
       "      <td>1</td>\n",
       "    </tr>\n",
       "  </tbody>\n",
       "</table>\n",
       "<p>4177 rows × 10 columns</p>\n",
       "</div>"
      ],
      "text/plain": [
       "      length  diameter  height  shucked_weight  viscera_weight  shell_weight  \\\n",
       "0      0.455     0.365   0.095          0.2245          0.1010        0.1500   \n",
       "1      0.350     0.265   0.090          0.0995          0.0485        0.0700   \n",
       "2      0.530     0.420   0.135          0.2565          0.1415        0.2100   \n",
       "3      0.440     0.365   0.125          0.2155          0.1140        0.1550   \n",
       "4      0.330     0.255   0.080          0.0895          0.0395        0.0550   \n",
       "...      ...       ...     ...             ...             ...           ...   \n",
       "4172   0.565     0.450   0.165          0.3700          0.2390        0.2490   \n",
       "4173   0.590     0.440   0.135          0.4390          0.2145        0.2605   \n",
       "4174   0.600     0.475   0.205          0.5255          0.2875        0.3080   \n",
       "4175   0.625     0.485   0.150          0.5310          0.2610        0.2960   \n",
       "4176   0.710     0.555   0.195          0.9455          0.3765        0.4950   \n",
       "\n",
       "      rings  sex_F  sex_I  sex_M  \n",
       "0        15      0      0      1  \n",
       "1         7      0      0      1  \n",
       "2         9      1      0      0  \n",
       "3        10      0      0      1  \n",
       "4         7      0      1      0  \n",
       "...     ...    ...    ...    ...  \n",
       "4172     11      1      0      0  \n",
       "4173     10      0      0      1  \n",
       "4174      9      0      0      1  \n",
       "4175     10      1      0      0  \n",
       "4176     12      0      0      1  \n",
       "\n",
       "[4177 rows x 10 columns]"
      ]
     },
     "execution_count": 4,
     "metadata": {},
     "output_type": "execute_result"
    }
   ],
   "source": [
    "#abalone['adult']=abalone['sex_F']+abalone['sex_M']\n",
    "#abalone['infant']=abalone['sex_I']\n",
    "#abalone.drop(['sex_F', 'sex_M', 'sex_I', 'whole_weight'], axis=1, inplace=True)\n",
    "\n",
    "# drop whole weight column, contains redundant information with other columns\n",
    "# drop infant column as the infant and low number of rings are highly correlated\n",
    "abalone.drop(['whole_weight'], axis=1, inplace=True)\n",
    "abalone"
   ]
  },
  {
   "cell_type": "code",
   "execution_count": 5,
   "id": "3e6706a5",
   "metadata": {},
   "outputs": [
    {
     "data": {
      "image/png": "[encoded data removed]",
      "text/plain": [
       "<Figure size 432x288 with 1 Axes>"
      ]
     },
     "metadata": {
      "needs_background": "light"
     },
     "output_type": "display_data"
    }
   ],
   "source": [
    "#separate feature and target variables\n",
    "X = abalone.drop('rings', axis=1)\n",
    "y = abalone['rings']\n",
    "\n",
    "lasso = Lasso(alpha=0.6)\n",
    "\n",
    "lasso_coef = lasso.fit(X,y).coef_\n",
    "lasso_coef\n",
    "\n",
    "X_labels = X.columns\n",
    "\n",
    "n = plt.plot(range(len(X_labels)), lasso_coef)\n",
    "n = plt.xticks(range(len(X_labels)), X_labels, rotation=90)\n",
    "n = plt.ylabel('Coefficients')\n",
    "n = plt.suptitle('Lasso Regression of Abalone Dataset')\n",
    "\n",
    "plt.show()"
   ]
  },
  {
   "cell_type": "code",
   "execution_count": 6,
   "id": "128ebb92",
   "metadata": {},
   "outputs": [],
   "source": [
    "input_shape = (len(X.columns),)\n",
    "\n",
    "def model_func(input_shape=input_shape):\n",
    "    model = keras.Sequential()\n",
    "    model.add(layers.Dense(300, activation='relu', input_shape=input_shape))\n",
    "    model.add(layers.Dense(300, activation='relu'))\n",
    "    model.add(layers.Dense(1))\n",
    "    return(model)"
   ]
  },
  {
   "cell_type": "code",
   "execution_count": 7,
   "id": "b8f85e87",
   "metadata": {},
   "outputs": [
    {
     "name": "stdout",
     "output_type": "stream",
     "text": [
      "92/92 [==============================] - 1s 6ms/step - loss: 23.2555 - val_loss: 5.5710\n",
      "92/92 [==============================] - 1s 6ms/step - loss: 11.4461 - val_loss: 5.7655\n",
      "92/92 [==============================] - 1s 5ms/step - loss: 109.4567 - val_loss: 6.1635\n"
     ]
    }
   ],
   "source": [
    "lr_list = [0.001, 0.01, 0.1]\n",
    "\n",
    "for lr in lr_list:\n",
    "    model=model_func()\n",
    "    opt = tf.keras.optimizers.Adam(learning_rate=lr)\n",
    "    model.compile(optimizer=opt, loss='mean_squared_error')\n",
    "    model.fit(X,y, validation_split=0.3)"
   ]
  },
  {
   "cell_type": "code",
   "execution_count": 8,
   "id": "f619e9c8",
   "metadata": {},
   "outputs": [
    {
     "name": "stdout",
     "output_type": "stream",
     "text": [
      "Epoch 1/30\n",
      "92/92 [==============================] - 1s 9ms/step - loss: 61.4844 - val_loss: 5.9202\n",
      "Epoch 2/30\n",
      "92/92 [==============================] - 1s 7ms/step - loss: 6.7817 - val_loss: 4.7915\n",
      "Epoch 3/30\n",
      "92/92 [==============================] - 1s 8ms/step - loss: 5.9428 - val_loss: 7.0805\n",
      "Epoch 4/30\n",
      "92/92 [==============================] - 1s 8ms/step - loss: 6.5521 - val_loss: 4.7048\n",
      "Epoch 5/30\n",
      "92/92 [==============================] - 1s 7ms/step - loss: 5.3573 - val_loss: 4.3666\n",
      "Epoch 6/30\n",
      "92/92 [==============================] - 1s 7ms/step - loss: 5.6732 - val_loss: 4.3245\n",
      "Epoch 7/30\n",
      "92/92 [==============================] - 1s 7ms/step - loss: 5.5579 - val_loss: 5.8688\n",
      "Epoch 8/30\n",
      "92/92 [==============================] - 1s 7ms/step - loss: 6.0414 - val_loss: 4.1656\n",
      "Epoch 9/30\n",
      "92/92 [==============================] - 1s 7ms/step - loss: 6.0575 - val_loss: 6.4479\n",
      "Epoch 10/30\n",
      "92/92 [==============================] - 1s 7ms/step - loss: 5.7184 - val_loss: 4.2061\n"
     ]
    },
    {
     "data": {
      "text/plain": [
       "<keras.callbacks.History at 0x29563dc4190>"
      ]
     },
     "execution_count": 8,
     "metadata": {},
     "output_type": "execute_result"
    }
   ],
   "source": [
    "adam = tf.keras.optimizers.Adam(learning_rate=0.01)\n",
    "\n",
    "model = keras.Sequential()\n",
    "model.add(layers.Dense(300, activation='relu', input_shape=(len(X.columns),)))\n",
    "model.add(layers.Dense(300, activation='relu'))\n",
    "model.add(layers.Dense(300, activation='relu'))\n",
    "model.add(layers.Dense(300, activation='relu'))\n",
    "model.add(layers.Dense(300, activation='relu'))\n",
    "#model.add(layers.Dense(300, activation='relu'))\n",
    "model.add(layers.Dense(1))\n",
    "\n",
    "model.compile(optimizer=adam, loss='mean_squared_error')\n",
    "\n",
    "early_stop = tf.keras.callbacks.EarlyStopping(patience=2)\n",
    "\n",
    "model.fit(X,y, validation_split=0.3, epochs=30, callbacks=[early_stop])\n"
   ]
  },
  {
   "cell_type": "code",
   "execution_count": 9,
   "id": "7111027e",
   "metadata": {},
   "outputs": [
    {
     "data": {
      "text/plain": [
       "2.0393381279228806"
      ]
     },
     "execution_count": 9,
     "metadata": {},
     "output_type": "execute_result"
    }
   ],
   "source": [
    "## The validation set loss for the Keras model is 4.1589\n",
    "\n",
    "keras_rmse = np.sqrt(4.1589)\n",
    "keras_rmse"
   ]
  },
  {
   "cell_type": "markdown",
   "id": "2f8a5e7f",
   "metadata": {},
   "source": [
    "##### 4.\tWrite another algorithm to predict the same result as the previous question using either KNN or logistic regression.\n"
   ]
  },
  {
   "cell_type": "code",
   "execution_count": 10,
   "id": "1b7c6ea8",
   "metadata": {},
   "outputs": [],
   "source": [
    "X_train, X_test, y_train, y_test = train_test_split(X,y, test_size=0.3, random_state=42)\n",
    "\n",
    "#don't forget to scale data\n",
    "sc = StandardScaler()\n",
    "X_train_scale = sc.fit_transform(X_train)\n",
    "X_test_scale = sc.fit_transform(X_test)"
   ]
  },
  {
   "cell_type": "code",
   "execution_count": 11,
   "id": "2f7e156f",
   "metadata": {},
   "outputs": [
    {
     "data": {
      "text/plain": [
       "{'n_neighbors': 17}"
      ]
     },
     "execution_count": 11,
     "metadata": {},
     "output_type": "execute_result"
    }
   ],
   "source": [
    "params = {'n_neighbors': np.arange(5, 30, 2)}\n",
    "\n",
    "k_neighbors = KNeighborsRegressor()\n",
    "\n",
    "cv = GridSearchCV(k_neighbors, params, cv=5)\n",
    "cv.fit(X_train_scale, y_train)\n",
    "cv.best_params_"
   ]
  },
  {
   "cell_type": "code",
   "execution_count": 12,
   "id": "bab11f9c",
   "metadata": {},
   "outputs": [
    {
     "data": {
      "text/plain": [
       "2.204723403214271"
      ]
     },
     "execution_count": 12,
     "metadata": {},
     "output_type": "execute_result"
    }
   ],
   "source": [
    "knr = KNeighborsRegressor(n_neighbors = 17)\n",
    "knr.fit(X_train_scale, y_train)\n",
    "knr_pred = knr.predict(X_test_scale)\n",
    "\n",
    "knr_rmse = np.sqrt(mean_squared_error(y_test, knr_pred))\n",
    "knr_rmse"
   ]
  },
  {
   "cell_type": "markdown",
   "id": "c9ba29c4",
   "metadata": {},
   "source": [
    "##### 5.\tCreate a neural network using pytorch to predict the same result as question 3. \n"
   ]
  },
  {
   "cell_type": "code",
   "execution_count": 22,
   "id": "7df2c919",
   "metadata": {},
   "outputs": [],
   "source": [
    "X_val = X.values\n",
    "y_val = y.values\n",
    "\n",
    "X_train_v, X_test_v, y_train_v, y_test_v = train_test_split(X_val,y_val,test_size=0.3, random_state=42)\n",
    "\n",
    "X_train_v = torch.FloatTensor(X_train_v)\n",
    "X_test_v = torch.FloatTensor(X_test_v)\n",
    "\n",
    "y_train_v = torch.FloatTensor(y_train_v)\n",
    "y_test_v = torch.FloatTensor(y_test_v)"
   ]
  },
  {
   "cell_type": "code",
   "execution_count": 29,
   "id": "01149e77",
   "metadata": {},
   "outputs": [
    {
     "name": "stdout",
     "output_type": "stream",
     "text": [
      "Epoch number 0 with loss: 112.12271118164062\n",
      "Epoch number 100 with loss: 10.491743087768555\n",
      "Epoch number 200 with loss: 10.48863410949707\n",
      "Epoch number 300 with loss: 10.488067626953125\n",
      "Epoch number 400 with loss: 10.487728118896484\n",
      "Epoch number 500 with loss: 10.487476348876953\n"
     ]
    }
   ],
   "source": [
    "\n",
    "class ANN_Model(nn.Module):\n",
    "    \n",
    "    def __init__(self, input_features=9, hidden1=300, hidden2=300, \n",
    "                 hidden3=300, hidden4=300, out_features=1):\n",
    "        super().__init__()\n",
    "        self.layer1con = nn.Linear(input_features, hidden1)\n",
    "        self.layer2con = nn.Linear(hidden1, hidden2)\n",
    "        self.layer3con = nn.Linear(hidden2, hidden3)\n",
    "        self.layer4con = nn.Linear(hidden3, hidden4)\n",
    "        self.out = nn.Linear(hidden4, out_features)\n",
    "        \n",
    "    def forward(self, x):\n",
    "        x = F.relu(self.layer1con(x))\n",
    "        x = F.relu(self.layer2con(x))\n",
    "        x = self.out(x)\n",
    "        return(x)\n",
    "    \n",
    "ann = ANN_Model()\n",
    "loss_function = nn.MSELoss()\n",
    "optimizer = torch.optim.Adam(ann.parameters(), lr=0.01)\n",
    "\n",
    "final_loss = []\n",
    "\n",
    "for epoch in range(501):\n",
    "    y_pred = ann.forward(X_train_v)\n",
    "    loss = loss_function(y_pred, y_train_v)\n",
    "    final_loss.append(loss)\n",
    "    \n",
    "    if epoch % 100 == 0:\n",
    "        print(f'Epoch number {epoch} with loss: {loss}')\n",
    "        \n",
    "    optimizer.zero_grad()\n",
    "    loss.backward()\n",
    "    optimizer.step()"
   ]
  },
  {
   "cell_type": "code",
   "execution_count": 37,
   "id": "6bb17b32",
   "metadata": {},
   "outputs": [
    {
     "data": {
      "text/plain": [
       "10.320849587323067"
      ]
     },
     "execution_count": 37,
     "metadata": {},
     "output_type": "execute_result"
    }
   ],
   "source": [
    "y_pred_torch = []\n",
    "\n",
    "with torch.no_grad():\n",
    "    for i, data in enumerate(X_test_v):\n",
    "        prediction = ann(data)\n",
    "        y_pred_torch.append(prediction.argmax())\n",
    "\n",
    "rmse_torch = np.sqrt(mean_squared_error(y_test_v, y_pred_torch))\n",
    "rmse_torch"
   ]
  },
  {
   "cell_type": "markdown",
   "id": "dee22081",
   "metadata": {},
   "source": [
    "##### 6.\tCompare the performance of the neural networks to the other model you created. Which performed better? Why do you think that is?"
   ]
  },
  {
   "cell_type": "code",
   "execution_count": null,
   "id": "bd9d403a",
   "metadata": {},
   "outputs": [],
   "source": []
  }
 ],
 "metadata": {
  "kernelspec": {
   "display_name": "Python 3 (ipykernel)",
   "language": "python",
   "name": "python3"
  },
  "language_info": {
   "codemirror_mode": {
    "name": "ipython",
    "version": 3
   },
   "file_extension": ".py",
   "mimetype": "text/x-python",
   "name": "python",
   "nbconvert_exporter": "python",
   "pygments_lexer": "ipython3",
   "version": "3.9.7"
  }
 },
 "nbformat": 4,
 "nbformat_minor": 5
}
