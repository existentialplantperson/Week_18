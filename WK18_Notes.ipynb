{
 "cells": [
  {
   "cell_type": "markdown",
   "id": "4c8aa985",
   "metadata": {},
   "source": [
    "##### Week 18 In Class Notes\n",
    "###### January 26, 2022"
   ]
  },
  {
   "cell_type": "markdown",
   "id": "ae4fb52e",
   "metadata": {},
   "source": [
    "How do you evaluate the performance of your model when you're trying to predict a continuous variable? Why?\n",
    "\n",
    "Mean Squared Error\n",
    "Root Mean Squared Error\n",
    "Mean Absolute Error\n",
    "\n",
    "These metrics measure the error between the actual target value and the predicted target value, MSE and RMSE punish larger errors more than MAE does; both RMSE and MAE have units that are equal to the model units."
   ]
  },
  {
   "cell_type": "code",
   "execution_count": 13,
   "id": "0e1bc2e7",
   "metadata": {},
   "outputs": [
    {
     "name": "stdout",
     "output_type": "stream",
     "text": [
      "[1 2 3 4 5 6]\n",
      "[ 3  6  9 12 15 18]\n"
     ]
    }
   ],
   "source": [
    "import numpy as np\n",
    "\n",
    "some_array = np.array([1,2,3,4,5,6])\n",
    "print(some_array)\n",
    "\n",
    "#multiply each value by 3 as simply as possible\n",
    "array_x3 = array*3\n",
    "print(array_x3)"
   ]
  },
  {
   "cell_type": "markdown",
   "id": "8d126376",
   "metadata": {},
   "source": [
    "#### Class Notes"
   ]
  },
  {
   "cell_type": "markdown",
   "id": "f33d48c6",
   "metadata": {},
   "source": [
    "###### Neural Networks \n",
    "- process that mimics human brain to understand patterns in stat\n",
    "- each node is a 'preceptron' which is similar to multiple linear regression\n",
    "- the result of the preceptron feeds an activation function (converts node input to output)\n",
    "    - rectified linear activation unit\n",
    "- hidden layers fine tine the results intil the error is minimized\n",
    "- deep learning algorithm - a neural network with more than three layers\n",
    "\n",
    "\n",
    "Improving neural \n",
    "- forward propagation (input to output)\n",
    "    - dot product\n",
    "    - higher weights for better performance\n",
    "backward propagation"
   ]
  },
  {
   "cell_type": "markdown",
   "id": "1421dc5c",
   "metadata": {},
   "source": [
    "Thought exercise - steps your brain takes when a deer jumps in front of your car\n",
    "- eyes take in the movement\n",
    "- panic response\n",
    "- hit breaks \n",
    "- check rear view mirror and oncoming traffic\n",
    "- swerve\n",
    "\n",
    "very similar to the way a neural network processes an event"
   ]
  },
  {
   "cell_type": "markdown",
   "id": "7c2d8eea",
   "metadata": {},
   "source": [
    "###### ReLU and Activation Functions\n",
    "- activation functions allow our algorithm to learn more complex patterns in data\n",
    "- simplest non-linear is ReLU:\n",
    "        0 if input >0:\n",
    "            return input\n",
    "        else\n",
    "            return 0\n",
    "- can use more complicated activation functions like tanh, but ReLU is sufficient and very performant for a wide variety of problems\n",
    "\n",
    "###### Forward and Backward Propagation\n",
    "- forward - takes ubput values and propagates forward through the hidden layers to oputput; used to calculate predictions and errors\n",
    "- backward - goes back one layer at a time from output to input to see how small changes impact the difference between the predicted and actual values; working to minimize the loss function\n",
    "\n",
    "Advances in Neural networks come from advances in hardware: memory usage, multi-threading, etc.\n",
    "advances in mathematic efficiency: compreshion algorithms"
   ]
  },
  {
   "cell_type": "markdown",
   "id": "922ee095",
   "metadata": {},
   "source": [
    "Article to read: pytourch (similar to keris and tensorflow)\n",
    "https://neptune.ai/blog/pytorch-loss-functions\n",
    "\n",
    "\"Loss functions are used to gauge the error between the prediction output and the provided target value. A loss function tells us how far the algorithm model is from realizing the expected outcome. The word ‘loss’ means the penalty that the model gets for failing to yield the desired results.\"\n",
    "\n",
    "Mean Absolute Error Loss\n",
    "Mean Squared Error Loss\n",
    "Negative Log-Likelihood Loss\n",
    "Cross-Entropy Loss\n",
    "Hinge Embedding Loss\n",
    "Margin Ranking Loss\n",
    "Triplet Margin Loss\n",
    "Kullback-Leibler divergence\n",
    "\n",
    "examples of each and when to use in the article"
   ]
  },
  {
   "cell_type": "markdown",
   "id": "8b6f2a73",
   "metadata": {},
   "source": [
    "###### How do neural networks learn and grow\n",
    "\n",
    "- usually used for supervised learning so there is an answer they can tune to\n",
    "- back propagation is critical to the learning process"
   ]
  },
  {
   "cell_type": "code",
   "execution_count": 3,
   "id": "78dcc7ae",
   "metadata": {},
   "outputs": [],
   "source": [
    "import pandas as pd"
   ]
  },
  {
   "cell_type": "code",
   "execution_count": 5,
   "id": "d5ca4f02",
   "metadata": {},
   "outputs": [
    {
     "data": {
      "text/html": [
       "<div>\n",
       "<style scoped>\n",
       "    .dataframe tbody tr th:only-of-type {\n",
       "        vertical-align: middle;\n",
       "    }\n",
       "\n",
       "    .dataframe tbody tr th {\n",
       "        vertical-align: top;\n",
       "    }\n",
       "\n",
       "    .dataframe thead th {\n",
       "        text-align: right;\n",
       "    }\n",
       "</style>\n",
       "<table border=\"1\" class=\"dataframe\">\n",
       "  <thead>\n",
       "    <tr style=\"text-align: right;\">\n",
       "      <th></th>\n",
       "      <th>Pregnancies</th>\n",
       "      <th>Glucose</th>\n",
       "      <th>BloodPressure</th>\n",
       "      <th>SkinThickness</th>\n",
       "      <th>Insulin</th>\n",
       "      <th>BMI</th>\n",
       "      <th>DiabetesPedigreeFunction</th>\n",
       "      <th>Age</th>\n",
       "      <th>Outcome</th>\n",
       "    </tr>\n",
       "  </thead>\n",
       "  <tbody>\n",
       "    <tr>\n",
       "      <th>0</th>\n",
       "      <td>6</td>\n",
       "      <td>148</td>\n",
       "      <td>72</td>\n",
       "      <td>35</td>\n",
       "      <td>0</td>\n",
       "      <td>33.6</td>\n",
       "      <td>0.627</td>\n",
       "      <td>50</td>\n",
       "      <td>1</td>\n",
       "    </tr>\n",
       "    <tr>\n",
       "      <th>1</th>\n",
       "      <td>1</td>\n",
       "      <td>85</td>\n",
       "      <td>66</td>\n",
       "      <td>29</td>\n",
       "      <td>0</td>\n",
       "      <td>26.6</td>\n",
       "      <td>0.351</td>\n",
       "      <td>31</td>\n",
       "      <td>0</td>\n",
       "    </tr>\n",
       "    <tr>\n",
       "      <th>2</th>\n",
       "      <td>8</td>\n",
       "      <td>183</td>\n",
       "      <td>64</td>\n",
       "      <td>0</td>\n",
       "      <td>0</td>\n",
       "      <td>23.3</td>\n",
       "      <td>0.672</td>\n",
       "      <td>32</td>\n",
       "      <td>1</td>\n",
       "    </tr>\n",
       "    <tr>\n",
       "      <th>3</th>\n",
       "      <td>1</td>\n",
       "      <td>89</td>\n",
       "      <td>66</td>\n",
       "      <td>23</td>\n",
       "      <td>94</td>\n",
       "      <td>28.1</td>\n",
       "      <td>0.167</td>\n",
       "      <td>21</td>\n",
       "      <td>0</td>\n",
       "    </tr>\n",
       "    <tr>\n",
       "      <th>4</th>\n",
       "      <td>0</td>\n",
       "      <td>137</td>\n",
       "      <td>40</td>\n",
       "      <td>35</td>\n",
       "      <td>168</td>\n",
       "      <td>43.1</td>\n",
       "      <td>2.288</td>\n",
       "      <td>33</td>\n",
       "      <td>1</td>\n",
       "    </tr>\n",
       "  </tbody>\n",
       "</table>\n",
       "</div>"
      ],
      "text/plain": [
       "   Pregnancies  Glucose  BloodPressure  SkinThickness  Insulin   BMI  \\\n",
       "0            6      148             72             35        0  33.6   \n",
       "1            1       85             66             29        0  26.6   \n",
       "2            8      183             64              0        0  23.3   \n",
       "3            1       89             66             23       94  28.1   \n",
       "4            0      137             40             35      168  43.1   \n",
       "\n",
       "   DiabetesPedigreeFunction  Age  Outcome  \n",
       "0                     0.627   50        1  \n",
       "1                     0.351   31        0  \n",
       "2                     0.672   32        1  \n",
       "3                     0.167   21        0  \n",
       "4                     2.288   33        1  "
      ]
     },
     "execution_count": 5,
     "metadata": {},
     "output_type": "execute_result"
    }
   ],
   "source": [
    "diabetes_df = pd.read_csv(\"../Datasets/diabetes.csv\")\n",
    "diabetes_df.head()"
   ]
  },
  {
   "cell_type": "code",
   "execution_count": 6,
   "id": "d603eae6",
   "metadata": {},
   "outputs": [],
   "source": [
    "from sklearn.model_selection import train_test_split\n",
    "from sklearn.preprocessing import StandardScaler"
   ]
  },
  {
   "cell_type": "code",
   "execution_count": 13,
   "id": "6c249c79",
   "metadata": {},
   "outputs": [
    {
     "name": "stdout",
     "output_type": "stream",
     "text": [
      "[[ 0.93138344  2.0179454   0.78066953 ...  0.43148259 -0.37477883\n",
      "   0.63212912]\n",
      " [ 0.63260632 -1.14861888  0.46538785 ... -0.1198324  -0.29416766\n",
      "   0.71699246]\n",
      " [-0.56250219 -0.47692343 -0.2702694  ... -0.20958135  2.74517192\n",
      "   0.03808578]\n",
      " ...\n",
      " [-0.86127931 -0.76479291  0.04501228 ...  0.76483585 -0.78380586\n",
      "  -0.30136756]\n",
      " [ 0.63260632  2.20985838  1.2010451  ...  0.43148259 -0.60466993\n",
      "   2.75371249]\n",
      " [ 0.03505207  0.73852549 -0.58555107 ... -0.33779414 -0.57779954\n",
      "   0.29267578]]\n",
      "[1 0 0 0 0 1 0 0 0 0 0 1 0 1 0 0 0 0 1 0 0 0 0 0 0 0 1 1 0 0 1 0 0 1 0 1 1\n",
      " 1 0 1 0 1 0 0 1 0 0 0 0 1 0 0 1 0 1 1 0 0 0 0 0 0 0 0 0 0 0 1 0 0 1 1 0 0\n",
      " 0 0 1 0 0 0 1 0 1 1 1 1 0 0 0 1 0 0 0 0 0 0 0 0 0 0 0 0 1 0 0 1 0 1 1 1 1\n",
      " 0 0 1 0 0 0 0 0 0 1 0 0 0 0 0 0 1 1 1 0 0 0 0 1 1 0 0 0 0 1 1 1 1 1 1 1 1\n",
      " 0 0 1 1 0 0 0 0 0 1 1 1 1 0 0 0 1 1 0 0 0 0 0 0 1 0 0 1 0 0 0 0 1 0 1 0 0\n",
      " 0 0 0 1 1 0 1 0 0 0 0 0 0 0 0 0 0 0 1 0 0 1 1 0 0 0 1 0 1 0 0 1 1 1 0 0 1\n",
      " 0 1 0 1 0 1 0 1 0 1 0 1 1 1 0 0 0 0 0 0 1 0 0 0 1 0 1 1 1 1 0 0 0 0 0 0 1\n",
      " 1 0 0 1 0 1 0 0 0 0 1 0 1 0 0 1 0 0 0 0 1 0 1 0 0 0 0 0 0 0 0 0 1 1 0 1 0\n",
      " 0 1 0 0 1 1 0 1 0 0 0 0 1 0 0 1 0 1 0 0 0 0 0 0 1 0 0 0 1 0 0 0 0 0 1 0 0\n",
      " 1 0 1 0 1 1 0 0 0 0 1 0 1 1 1 0 1 0 0 1 0 0 1 0 0 0 0 0 1 0 0 1 0 0 1 0 1\n",
      " 0 1 0 1 0 1 1 0 1 0 0 1 0 0 1 1 1 1 0 1 0 0 1 1 0 1 1 0 0 1 0 1 0 0 0 0 1\n",
      " 0 0 0 0 0 0 0 0 0 1 0 0 1 0 0 1 1 0 0 0 0 1 1 0 1 0 0 0 0 0 0 1 1 0 0 1 0\n",
      " 0 0 1 1 0 0 1 1 1 1 0 1 1 1 0 0 0 1 0 1 1 0 0 0 0 0 1 0 0 1 0 1 0 0 0 1 0\n",
      " 0 1 0 0 0 1 0 0 0 1 1 1 0 0 0 1 1 1 0 0 0 0 0 1 0 0 0 0 1 0 1 0 0 0 0 1 1\n",
      " 0 0 0 0 0 1 0 0 0 0 0 0 1 1 1 0 0 1 0]\n"
     ]
    }
   ],
   "source": [
    "X = diabetes_df.drop('Outcome', axis=1).values\n",
    "y = diabetes_df['Outcome'].values\n",
    "\n",
    "X_train, X_test, y_train, y_test = train_test_split(X,y,test_size=0.3, random_state=42, stratify=y)\n",
    "\n",
    "sc=StandardScaler()\n",
    "X_train = sc.fit_transform(X_train)\n",
    "X_test=sc.fit_transform(X_test)\n",
    "print(X_train)\n",
    "print(y_train)"
   ]
  },
  {
   "cell_type": "code",
   "execution_count": 10,
   "id": "328f78bf",
   "metadata": {},
   "outputs": [],
   "source": [
    "import torch\n",
    "import torch.nn as nn\n",
    "import torch.nn.functional as F #where the activation function are"
   ]
  },
  {
   "cell_type": "code",
   "execution_count": 15,
   "id": "d0f10abe",
   "metadata": {},
   "outputs": [
    {
     "name": "stdout",
     "output_type": "stream",
     "text": [
      "tensor([[ 0.9314,  2.0179,  0.7807,  ...,  0.4315, -0.3748,  0.6321],\n",
      "        [ 0.6326, -1.1486,  0.4654,  ..., -0.1198, -0.2942,  0.7170],\n",
      "        [-0.5625, -0.4769, -0.2703,  ..., -0.2096,  2.7452,  0.0381],\n",
      "        ...,\n",
      "        [-0.8613, -0.7648,  0.0450,  ...,  0.7648, -0.7838, -0.3014],\n",
      "        [ 0.6326,  2.2099,  1.2010,  ...,  0.4315, -0.6047,  2.7537],\n",
      "        [ 0.0351,  0.7385, -0.5856,  ..., -0.3378, -0.5778,  0.2927]])\n"
     ]
    }
   ],
   "source": [
    "#create tensors = matrices\n",
    "\n",
    "#same values, but slightly different format to make it easier for torch\n",
    "X_train = torch.FloatTensor(X_train) \n",
    "X_test = torch.FloatTensor(X_test)\n",
    "\n",
    "y_train = torch.LongTensor(y_train) \n",
    "y_test = torch.LongTensor(y_test)\n",
    "\n",
    "print(X_train)"
   ]
  },
  {
   "cell_type": "code",
   "execution_count": 25,
   "id": "dd7a4230",
   "metadata": {},
   "outputs": [],
   "source": [
    "#aritficial neural network\n",
    "#creating a class using the neural network module\n",
    "class ANN_Model(nn.Module):\n",
    "    \n",
    "    #uses the parameters for nn.Module, check documentation\n",
    "    def __init__(self, input_features=8, hidden1=20, hidden2=20, out_features=2):\n",
    "        \n",
    "        # keyword super is a computed indirect reference, \n",
    "        # iolates changes and makes sure children in the layers of multiple inheritance\n",
    "        # are calling the correct parents\n",
    "        super().__init__() \n",
    "        \n",
    "        self.layer_1_connection = nn.Linear(input_features, hidden1)\n",
    "        self.layer_2_connection = nn.Linear(hidden1, hidden2)\n",
    "        self.out = nn.Linear(hidden2, out_features)\n",
    "        \n",
    "    def forward(self, x):\n",
    "        #apply activation functions\n",
    "        x = F.relu(self.layer_1_connection(x))\n",
    "        x = F.relu(self.layer_2_connection(x))\n",
    "        x = self.out(x)\n",
    "        return x"
   ]
  },
  {
   "cell_type": "code",
   "execution_count": 26,
   "id": "7be8133b",
   "metadata": {},
   "outputs": [],
   "source": [
    "torch.manual_seed(42)\n",
    "\n",
    "#create instance of model\n",
    "ann = ANN_Model()"
   ]
  },
  {
   "cell_type": "code",
   "execution_count": 27,
   "id": "3f9cffe7",
   "metadata": {},
   "outputs": [],
   "source": [
    "#loss function\n",
    "loss_function = nn.CrossEntropyLoss()\n",
    "\n",
    "#optimizer\n",
    "optimizer = torch.optim.Adam(ann.parameters(), lr=0.01)"
   ]
  },
  {
   "cell_type": "code",
   "execution_count": 28,
   "id": "21c0b17b",
   "metadata": {},
   "outputs": [
    {
     "name": "stdout",
     "output_type": "stream",
     "text": [
      "Epoch number:1 with loss: 0.6474701762199402\n",
      "Epoch number:11 with loss: 0.5270779132843018\n",
      "Epoch number:21 with loss: 0.4539138376712799\n",
      "Epoch number:31 with loss: 0.4234800934791565\n",
      "Epoch number:41 with loss: 0.39819812774658203\n",
      "Epoch number:51 with loss: 0.3721073567867279\n",
      "Epoch number:61 with loss: 0.3437724709510803\n",
      "Epoch number:71 with loss: 0.31378453969955444\n",
      "Epoch number:81 with loss: 0.28582650423049927\n",
      "Epoch number:91 with loss: 0.25994446873664856\n",
      "Epoch number:101 with loss: 0.2377135008573532\n",
      "Epoch number:111 with loss: 0.21422426402568817\n",
      "Epoch number:121 with loss: 0.19071196019649506\n",
      "Epoch number:131 with loss: 0.17592839896678925\n",
      "Epoch number:141 with loss: 0.15840257704257965\n",
      "Epoch number:151 with loss: 0.14416620135307312\n",
      "Epoch number:161 with loss: 0.12847743928432465\n",
      "Epoch number:171 with loss: 0.11491046100854874\n",
      "Epoch number:181 with loss: 0.10371395200490952\n",
      "Epoch number:191 with loss: 0.09079709649085999\n",
      "Epoch number:201 with loss: 0.07853538542985916\n",
      "Epoch number:211 with loss: 0.06814247369766235\n",
      "Epoch number:221 with loss: 0.061865922063589096\n",
      "Epoch number:231 with loss: 0.05278967693448067\n",
      "Epoch number:241 with loss: 0.04638729244470596\n",
      "Epoch number:251 with loss: 0.04080768674612045\n",
      "Epoch number:261 with loss: 0.03572894632816315\n",
      "Epoch number:271 with loss: 0.03128238394856453\n",
      "Epoch number:281 with loss: 0.027322862297296524\n",
      "Epoch number:291 with loss: 0.023384639993309975\n",
      "Epoch number:301 with loss: 0.020362744107842445\n",
      "Epoch number:311 with loss: 0.017988210543990135\n",
      "Epoch number:321 with loss: 0.015936432406306267\n",
      "Epoch number:331 with loss: 0.014246130362153053\n",
      "Epoch number:341 with loss: 0.012772059999406338\n",
      "Epoch number:351 with loss: 0.011505198664963245\n",
      "Epoch number:361 with loss: 0.01043322216719389\n",
      "Epoch number:371 with loss: 0.009502175264060497\n",
      "Epoch number:381 with loss: 0.008662383072078228\n",
      "Epoch number:391 with loss: 0.007913717068731785\n",
      "Epoch number:401 with loss: 0.007257560268044472\n",
      "Epoch number:411 with loss: 0.00664562126621604\n",
      "Epoch number:421 with loss: 0.006100249942392111\n",
      "Epoch number:431 with loss: 0.005621930584311485\n",
      "Epoch number:441 with loss: 0.005173525307327509\n",
      "Epoch number:451 with loss: 0.004770389758050442\n",
      "Epoch number:461 with loss: 0.004417998716235161\n",
      "Epoch number:471 with loss: 0.0040975105948746204\n",
      "Epoch number:481 with loss: 0.0038132495246827602\n",
      "Epoch number:491 with loss: 0.0035607756581157446\n"
     ]
    }
   ],
   "source": [
    "#run model through multiple epochs/iterations\n",
    "final_loss = []\n",
    "n_epochs = 500\n",
    "for epoch in range(n_epochs):\n",
    "    y_pred = ann.forward(X_train)\n",
    "    loss = loss_function(y_pred, y_train)\n",
    "    final_loss.append(loss)\n",
    "    \n",
    "    if epoch % 10 == 1:\n",
    "        print(f'Epoch number:{epoch} with loss: {loss}')\n",
    "    \n",
    "    # impliment optimizer\n",
    "    # gradient descent - zero the gradient before running backwards propagation\n",
    "    optimizer.zero_grad()\n",
    "    loss.backward()\n",
    "    #perform optimization step for each epoch\n",
    "    optimizer.step()"
   ]
  },
  {
   "cell_type": "code",
   "execution_count": 29,
   "id": "a1fa8010",
   "metadata": {},
   "outputs": [],
   "source": [
    "#predictions \n",
    "y_pred = []\n",
    "\n",
    "with torch.no_grad():\n",
    "    for i, data in enumerate(X_test):\n",
    "        prediction = ann(data)\n",
    "        y_pred.append(prediction.argmax())"
   ]
  },
  {
   "cell_type": "code",
   "execution_count": 30,
   "id": "2d138de8",
   "metadata": {},
   "outputs": [
    {
     "name": "stdout",
     "output_type": "stream",
     "text": [
      "              precision    recall  f1-score   support\n",
      "\n",
      "           0       0.75      0.81      0.78       150\n",
      "           1       0.59      0.49      0.54        81\n",
      "\n",
      "    accuracy                           0.70       231\n",
      "   macro avg       0.67      0.65      0.66       231\n",
      "weighted avg       0.69      0.70      0.69       231\n",
      "\n"
     ]
    }
   ],
   "source": [
    "from sklearn.metrics import classification_report\n",
    "print(classification_report(y_test, y_pred))"
   ]
  },
  {
   "cell_type": "code",
   "execution_count": null,
   "id": "aa03804b",
   "metadata": {},
   "outputs": [],
   "source": []
  },
  {
   "cell_type": "code",
   "execution_count": null,
   "id": "d89a898d",
   "metadata": {},
   "outputs": [],
   "source": []
  },
  {
   "cell_type": "code",
   "execution_count": null,
   "id": "2b07ec80",
   "metadata": {},
   "outputs": [],
   "source": []
  },
  {
   "cell_type": "code",
   "execution_count": null,
   "id": "db13ed8e",
   "metadata": {},
   "outputs": [],
   "source": []
  },
  {
   "cell_type": "code",
   "execution_count": null,
   "id": "4461b4fb",
   "metadata": {},
   "outputs": [],
   "source": []
  }
 ],
 "metadata": {
  "kernelspec": {
   "display_name": "Python 3 (ipykernel)",
   "language": "python",
   "name": "python3"
  },
  "language_info": {
   "codemirror_mode": {
    "name": "ipython",
    "version": 3
   },
   "file_extension": ".py",
   "mimetype": "text/x-python",
   "name": "python",
   "nbconvert_exporter": "python",
   "pygments_lexer": "ipython3",
   "version": "3.9.7"
  }
 },
 "nbformat": 4,
 "nbformat_minor": 5
}
